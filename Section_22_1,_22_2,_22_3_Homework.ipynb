{
  "nbformat": 4,
  "nbformat_minor": 0,
  "metadata": {
    "colab": {
      "provenance": [],
      "authorship_tag": "ABX9TyMuyHNLBLJvHUYTBYq3PqQq",
      "include_colab_link": true
    },
    "kernelspec": {
      "name": "python3",
      "display_name": "Python 3"
    },
    "language_info": {
      "name": "python"
    }
  },
  "cells": [
    {
      "cell_type": "markdown",
      "metadata": {
        "id": "view-in-github",
        "colab_type": "text"
      },
      "source": [
        "<a href=\"https://colab.research.google.com/github/BMac23/Mat421/blob/main/Section_22_1%2C_22_2%2C_22_3_Homework.ipynb\" target=\"_parent\"><img src=\"https://colab.research.google.com/assets/colab-badge.svg\" alt=\"Open In Colab\"/></a>"
      ]
    },
    {
      "cell_type": "markdown",
      "source": [
        "# Ordinary Differential Equations (ODEs)\n",
        "\n",
        "Ordinary Differential Equations (ODEs) are equations that involve functions and their derivatives. An ODE describes the relationship between a function $y(x)$, which is dependent on an independent variable $x$, and its derivatives. The general form of an $n$-th order ODE is given by:\n",
        "\n",
        "\\begin{equation}\n",
        "    F\\left(x, y, \\frac{dy}{dx}, \\frac{d^2y}{dx^2}, \\ldots, \\frac{d^n y}{dx^n}\\right) = 0,\n",
        "\\end{equation}\n",
        "\n",
        "where $F$ is a function that combines these elements in some manner.\n",
        "\n",
        "## Pendulums and Initial Value Problems\n",
        "\n",
        "Consider a pendulum with length $l$ and mass $m$ at its end. The angle $\\Theta(t)$ it makes with the vertical in the presence of gravity $g$ satisfies the ODE:\n",
        "\n",
        "\\begin{equation}\n",
        "    ml\\frac{d^2\\Theta(t)}{dt^2} = -mg\\sin(\\Theta(t)).\n",
        "\\end{equation}\n",
        "\n",
        "This equation is derived by considering the forces acting on the pendulum and transforming them into polar coordinates.\n",
        "\n",
        "For small angles $\\Theta(t)$, the pendulum equation simplifies to:\n",
        "\n",
        "\\begin{equation}\n",
        "    l\\frac{d^2\\Theta(t)}{dt^2} = -g\\Theta(t).\n",
        "\\end{equation}"
      ],
      "metadata": {
        "id": "XqhMprDW1Ytd"
      }
    },
    {
      "cell_type": "markdown",
      "source": [
        "## Reduction of Order\n",
        "Reduction of order is a powerful technique for solving second-order ordinary differential equations (ODEs) when one solution $y_1(x)$ is already known. This method transforms the original second-order ODE into a first-order ODE, making it simpler to solve.\n",
        "\n",
        "Consider a second-order linear homogeneous ODE of the form:\n",
        "\n",
        "\\begin{equation}\n",
        "    y'' + p(x)y' + q(x)y = 0,\n",
        "\\end{equation}\n",
        "\n",
        "where $y''$ denotes the second derivative of $y$ with respect to $x$, and $p(x)$ and $q(x)$ are known functions.\n",
        "\n",
        "Suppose $y_1(x)$ is a known solution to this ODE. The goal is to find a second, linearly independent solution $y_2(x)$. We assume that $y_2(x)$ can be represented as $y_2(x) = v(x)y_1(x)$, where $v(x)$ is an unknown function to be determined.\n",
        "\n",
        "Substituting $y_2(x)$ into the original ODE and applying the product rule for differentiation leads to a first-order ODE in terms of $v'(x)$:\n",
        "\n",
        "\\begin{equation}\n",
        "    v''y_1 + 2v'y_1' + v(y_1'' + p(x)y_1' + q(x)y_1) = 0.\n",
        "\\end{equation}\n",
        "\n",
        "Since $y_1(x)$ is a solution to the original ODE, the term $y_1'' + p(x)y_1' + q(x)y_1$ equals zero, simplifying the equation to:\n",
        "\n",
        "\\begin{equation}\n",
        "    v''y_1 + 2v'y_1' = 0.\n",
        "\\end{equation}\n",
        "\n",
        "This can be further simplified by introducing a substitution $u = v'$, reducing the problem to a first-order ODE in terms of $u$:\n",
        "\n",
        "\\begin{equation}\n",
        "    u'y_1 + 2u y_1' = 0,\n",
        "\\end{equation}\n",
        "\n",
        "which can be solved to find $u(x)$, and subsequently $v(x)$ by integration, leading to the second solution $y_2(x)$.\n"
      ],
      "metadata": {
        "id": "8oksfecF48zX"
      }
    },
    {
      "cell_type": "code",
      "source": [
        "import sympy as sp"
      ],
      "metadata": {
        "id": "gz074lOp5NiD"
      },
      "execution_count": 1,
      "outputs": []
    },
    {
      "cell_type": "code",
      "source": [
        "x = sp.symbols('x')\n",
        "y = sp.Function('y')(x)\n",
        "\n",
        "# Known solution y1 and its derivative\n",
        "y1 = sp.exp(x)\n",
        "y1_prime = sp.diff(y1, x)\n",
        "\n",
        "v = sp.Function('v')(x)\n",
        "y2 = v * y1"
      ],
      "metadata": {
        "id": "fJ1vBwgy5RXi"
      },
      "execution_count": 2,
      "outputs": []
    },
    {
      "cell_type": "code",
      "source": [
        "# Derivatives of y2\n",
        "y2_prime = sp.diff(y2, x)\n",
        "y2_double_prime = sp.diff(y2_prime, x)\n",
        "\n",
        "# Original ODE: y'' + p(x)*y' + q(x)*y = 0\n",
        "# Let's assume p(x) = 0 and q(x) = -1 for demonstration\n",
        "p = 0\n",
        "q = -1\n",
        "ode = y2_double_prime + p * y2_prime + q * y2\n",
        "\n",
        "reduced_ode = ode.subs({y2_double_prime: y2_double_prime, y2_prime: y2_prime, y2: y2}).doit()\n"
      ],
      "metadata": {
        "id": "TSb33nF65X01"
      },
      "execution_count": 3,
      "outputs": []
    },
    {
      "cell_type": "code",
      "source": [
        "v_prime = sp.Function('v_prime')(x)\n",
        "equation = reduced_ode.subs(sp.diff(v, x), v_prime).simplify()\n",
        "solution = sp.dsolve(equation, v_prime)\n",
        "\n",
        "print(f'Reduced ODE: {equation}')\n",
        "print(f'Solution for v\\': {solution}')"
      ],
      "metadata": {
        "colab": {
          "base_uri": "https://localhost:8080/"
        },
        "id": "sJ4bgSLt5hLo",
        "outputId": "41bc5bad-2c27-4b26-b355-38f6a0cc60d3"
      },
      "execution_count": 4,
      "outputs": [
        {
          "output_type": "stream",
          "name": "stdout",
          "text": [
            "Reduced ODE: (2*v_prime(x) + Derivative(v_prime(x), x))*exp(x)\n",
            "Solution for v': Eq(v_prime(x), C1*exp(-2*x))\n"
          ]
        }
      ]
    },
    {
      "cell_type": "markdown",
      "source": [
        "## Euler's Method\n",
        "\n",
        "Euler's Method is a first-order numerical procedure for solving ordinary differential equations (ODEs) with a given initial value. It is named after the Swiss mathematician Leonhard Euler, who introduced the method in the 18th century. The method approximates the solution of the initial value problem:\n",
        "\n",
        "\\begin{equation}\n",
        "    \\frac{dy}{dx} = f(x, y), \\quad y(x_0) = y_0,\n",
        "\\end{equation}\n",
        "\n",
        "where $f(x, y)$ is a given function that defines the derivative of $y$ with respect to $x$, and $(x_0, y_0)$ is the initial condition.\n",
        "\n",
        "The main idea behind Euler's Method is to use the slope of the tangent line at the known point to estimate the value of the function at the next point. The process is repeated iteratively to approximate the solution over a range of $x$ values.\n",
        "\n",
        "Given a step size $h$, which determines the interval between successive $x$ values, the algorithm can be described by the formula:\n",
        "\n",
        "\\begin{equation}\n",
        "    y_{n+1} = y_n + h \\cdot f(x_n, y_n),\n",
        "\\end{equation}"
      ],
      "metadata": {
        "id": "czvog67P8PBO"
      }
    },
    {
      "cell_type": "code",
      "source": [
        "import numpy as np\n",
        "import matplotlib.pyplot as plt"
      ],
      "metadata": {
        "id": "S7S16EYb_ATQ"
      },
      "execution_count": 5,
      "outputs": []
    },
    {
      "cell_type": "code",
      "source": [
        "# The ODE\n",
        "def f(x, y):\n",
        "    return -2 * y\n",
        "\n",
        "# Euler's method\n",
        "def euler_method(f, x0, y0, h, n):\n",
        "    x = np.zeros(n)\n",
        "    y = np.zeros(n)\n",
        "    x[0], y[0] = x0, y0\n",
        "\n",
        "    for i in range(1, n):\n",
        "        x[i] = x[i-1] + h\n",
        "        y[i] = y[i-1] + h * f(x[i-1], y[i-1])\n",
        "\n",
        "    return x, y\n",
        "\n",
        "# Analytical solution\n",
        "def analytical_solution(x):\n",
        "    return np.exp(-2 * x)"
      ],
      "metadata": {
        "id": "3ixYh5zG_BRe"
      },
      "execution_count": 6,
      "outputs": []
    },
    {
      "cell_type": "code",
      "source": [
        "x0 = 0\n",
        "y0 = 1\n",
        "h = 0.1\n",
        "n = 21\n",
        "\n",
        "x_euler, y_euler = euler_method(f, x0, y0, h, n)"
      ],
      "metadata": {
        "id": "GnwpAOQu_MFy"
      },
      "execution_count": 7,
      "outputs": []
    },
    {
      "cell_type": "code",
      "source": [
        "x_analytical = np.linspace(x0, 2, 100)\n",
        "y_analytical = analytical_solution(x_analytical)"
      ],
      "metadata": {
        "id": "Wrj05nju_Uko"
      },
      "execution_count": 8,
      "outputs": []
    },
    {
      "cell_type": "code",
      "source": [
        "plt.plot(x_euler, y_euler, 'o-', label='Euler\\'s Method')\n",
        "plt.plot(x_analytical, y_analytical, '-', label='Analytical Solution')\n",
        "plt.xlabel('x')\n",
        "plt.ylabel('y')\n",
        "plt.title('Comparison of Euler\\'s Method with Analytical Solution')\n",
        "plt.legend()\n",
        "plt.grid(True)\n",
        "plt.show()"
      ],
      "metadata": {
        "colab": {
          "base_uri": "https://localhost:8080/",
          "height": 472
        },
        "id": "3I2nXeJQ_Vk1",
        "outputId": "0fe4ca4a-b790-4a08-f36a-e4e947950eaa"
      },
      "execution_count": 9,
      "outputs": [
        {
          "output_type": "display_data",
          "data": {
            "text/plain": [
              "<Figure size 640x480 with 1 Axes>"
            ],
            "image/png": "[encoded data removed]"
          },
          "metadata": {}
        }
      ]
    }
  ]
}