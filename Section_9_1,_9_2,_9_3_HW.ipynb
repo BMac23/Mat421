{
  "nbformat": 4,
  "nbformat_minor": 0,
  "metadata": {
    "colab": {
      "provenance": [],
      "authorship_tag": "ABX9TyP1XzX+lYkbSv3Yv/eXKo1k",
      "include_colab_link": true
    },
    "kernelspec": {
      "name": "python3",
      "display_name": "Python 3"
    },
    "language_info": {
      "name": "python"
    }
  },
  "cells": [
    {
      "cell_type": "markdown",
      "metadata": {
        "id": "view-in-github",
        "colab_type": "text"
      },
      "source": [
        "<a href=\"https://colab.research.google.com/github/BMac23/Mat421/blob/main/Section_9_1%2C_9_2%2C_9_3_HW.ipynb\" target=\"_parent\"><img src=\"https://colab.research.google.com/assets/colab-badge.svg\" alt=\"Open In Colab\"/></a>"
      ]
    },
    {
      "cell_type": "code",
      "source": [
        "import numpy as np"
      ],
      "metadata": {
        "id": "WD0KRbbQSwOR"
      },
      "execution_count": 1,
      "outputs": []
    },
    {
      "cell_type": "markdown",
      "source": [
        "#Base-N and Binary"
      ],
      "metadata": {
        "id": "JtH9ODkFSp-B"
      }
    },
    {
      "cell_type": "markdown",
      "source": [
        "In modern mathematics, we use a base-10 system. So what does this mean? We use 10 digits (0 to 9) as a way of describing numbers before we increment a new digit onto it. For example:"
      ],
      "metadata": {
        "id": "cZ9wLr4zTOyo"
      }
    },
    {
      "cell_type": "code",
      "source": [
        "284.3 == 2 * 10**2 + 8 * 10**1 + 4 * 10**0 + 3 * 10**-1"
      ],
      "metadata": {
        "colab": {
          "base_uri": "https://localhost:8080/"
        },
        "id": "fKjQbgUeTo3c",
        "outputId": "28683714-fedd-4845-a499-4c7432c6f7b6"
      },
      "execution_count": 2,
      "outputs": [
        {
          "output_type": "execute_result",
          "data": {
            "text/plain": [
              "True"
            ]
          },
          "metadata": {},
          "execution_count": 2
        }
      ]
    },
    {
      "cell_type": "markdown",
      "source": [
        "We see that every number can be comprised of these 10 digits and it gets a new digit added to it in order to grow or shrink it. With our base-10 system, everything can be represented as numbers being multiplied by powers of 10.\n",
        "\n",
        "However there are lots of ways of representing numbers. The most well known way is a binary or base-2 system where the only digits used are 0 and 1."
      ],
      "metadata": {
        "id": "Ls3g8OD2T1ja"
      }
    },
    {
      "cell_type": "code",
      "source": [
        "for i in range(0,10):\n",
        "  print(str(i) + \" is represented as \" + str(bin(i)) + \" in binary.\")"
      ],
      "metadata": {
        "colab": {
          "base_uri": "https://localhost:8080/"
        },
        "id": "eIaRlvasUs34",
        "outputId": "2184e1a7-361c-42e1-b965-3218f656b53b"
      },
      "execution_count": 6,
      "outputs": [
        {
          "output_type": "stream",
          "name": "stdout",
          "text": [
            "0 is represented as 0b0 in binary.\n",
            "1 is represented as 0b1 in binary.\n",
            "2 is represented as 0b10 in binary.\n",
            "3 is represented as 0b11 in binary.\n",
            "4 is represented as 0b100 in binary.\n",
            "5 is represented as 0b101 in binary.\n",
            "6 is represented as 0b110 in binary.\n",
            "7 is represented as 0b111 in binary.\n",
            "8 is represented as 0b1000 in binary.\n",
            "9 is represented as 0b1001 in binary.\n"
          ]
        }
      ]
    },
    {
      "cell_type": "markdown",
      "source": [
        "Here we see that instead of using the digits of 0 to 9, we only go from 0 to 1 before adding another digit to the front of it. Binary uses a base-2 system meaning that instead of representing everything as powers of 10 being added together, it's powers of 2. The places of the 0 or 1 determine which power is being used. So for example:"
      ],
      "metadata": {
        "id": "_t2miVu7VRpr"
      }
    },
    {
      "cell_type": "code",
      "source": [
        "print(bin(20))"
      ],
      "metadata": {
        "colab": {
          "base_uri": "https://localhost:8080/"
        },
        "id": "X1Pbrsj-WT8W",
        "outputId": "ba0276e3-5443-4034-90ab-6c233e4127c8"
      },
      "execution_count": 7,
      "outputs": [
        {
          "output_type": "stream",
          "name": "stdout",
          "text": [
            "0b10100\n"
          ]
        }
      ]
    },
    {
      "cell_type": "markdown",
      "source": [
        "The binary representation of 20 can be expressed as 10100. This would translate to:\n",
        "\n",
        "$1 * 2^4 + 0 * 2^3 + 1 * 2^2 + 0 * 2^1 + 0 * 2^0$ And sure enough if we try calculating that:"
      ],
      "metadata": {
        "id": "6Wy8M2u1WXYN"
      }
    },
    {
      "cell_type": "code",
      "source": [
        "1 * 2**4 + 0 * 2**3 + 1 * 2**2 + 0 * 2**1 + 0 * 2**0"
      ],
      "metadata": {
        "colab": {
          "base_uri": "https://localhost:8080/"
        },
        "id": "80xMuIpsWz27",
        "outputId": "e794eef7-6ebf-4117-8812-cd2e9b19e0df"
      },
      "execution_count": 8,
      "outputs": [
        {
          "output_type": "execute_result",
          "data": {
            "text/plain": [
              "20"
            ]
          },
          "metadata": {},
          "execution_count": 8
        }
      ]
    },
    {
      "cell_type": "markdown",
      "source": [
        "Arithmetic can also be used in base-2 systems. With the binary numbers from earlier, we'll do some basic math."
      ],
      "metadata": {
        "id": "-8SAYIxIXJa0"
      }
    },
    {
      "cell_type": "code",
      "source": [
        "a = int('101', 2)        # 5 as binary\n",
        "b = int('1001', 2)       # 9 as binary\n",
        "\n",
        "print(bin(a + b))\n",
        "print(a + b)"
      ],
      "metadata": {
        "colab": {
          "base_uri": "https://localhost:8080/"
        },
        "id": "D7NKh46bXT3Z",
        "outputId": "57b70144-7202-4edf-81ac-92681586fb1a"
      },
      "execution_count": 11,
      "outputs": [
        {
          "output_type": "stream",
          "name": "stdout",
          "text": [
            "0b1110\n",
            "14\n"
          ]
        }
      ]
    },
    {
      "cell_type": "markdown",
      "source": [
        "Writing a binary to decimal function in python:"
      ],
      "metadata": {
        "id": "-RtioS-ZZtOe"
      }
    },
    {
      "cell_type": "code",
      "source": [
        "# Writing a function that takes an array of 0's and 1's representing a binary number and converts it to decimal\n",
        "def my_bin_2_dec(b):\n",
        "  x = 0\n",
        "  for i in range(len(b)):\n",
        "    x += b[len(b) - 1 - i] * (2 ** i)\n",
        "  return x\n",
        "\n",
        "test = [1, 0, 1, 1]\n",
        "\n",
        "my_bin_2_dec(test) # Test case of 11"
      ],
      "metadata": {
        "colab": {
          "base_uri": "https://localhost:8080/"
        },
        "id": "f7_DIFJRZxMY",
        "outputId": "5509fbd2-b131-4bbf-c860-1699e58a5d2a"
      },
      "execution_count": 15,
      "outputs": [
        {
          "output_type": "execute_result",
          "data": {
            "text/plain": [
              "11"
            ]
          },
          "metadata": {},
          "execution_count": 15
        }
      ]
    },
    {
      "cell_type": "markdown",
      "source": [
        "# Floating Point Numbers\n",
        "Computers use binary representation for numbers to increase ease of usage but a downside is that this reduces the total accuracy for base-10 numbers sometimes as a computer only has so many bits it can use.\n",
        "\n",
        "Floating point numbers or floats have 3 bits of knowledge which determine the sign of the number, the number itself, and then a fractional part which can allow for fractions or non-whole numbers."
      ],
      "metadata": {
        "id": "JE36f53xcQkO"
      }
    },
    {
      "cell_type": "code",
      "source": [
        "import sys\n",
        "sys.float_info"
      ],
      "metadata": {
        "colab": {
          "base_uri": "https://localhost:8080/"
        },
        "id": "2onEJj2bdNCm",
        "outputId": "763197e1-1b31-42fd-831d-5277af6041a4"
      },
      "execution_count": 16,
      "outputs": [
        {
          "output_type": "execute_result",
          "data": {
            "text/plain": [
              "sys.float_info(max=1.7976931348623157e+308, max_exp=1024, max_10_exp=308, min=2.2250738585072014e-308, min_exp=-1021, min_10_exp=-307, dig=15, mant_dig=53, epsilon=2.220446049250313e-16, radix=2, rounds=1)"
            ]
          },
          "metadata": {},
          "execution_count": 16
        }
      ]
    },
    {
      "cell_type": "markdown",
      "source": [
        "Floats are represented as a general form of:\n",
        "$x = (-1)^s * 2^{(e-1023)} * (1 + f)$\n",
        "\n",
        "Python uses IEEE754 double precision of 64 total bits so 1 bit is used for the sign, 11 bits are used for the exponent, and then the rest of the 52 bits are used for the fraction. However there is a limit to this precision. Numbers will have \"gaps\" which will tell a computer that two numbers are equal if they're within that range. For example:"
      ],
      "metadata": {
        "id": "ROo1MLOhdTQd"
      }
    },
    {
      "cell_type": "code",
      "source": [
        "np.spacing(1e11)"
      ],
      "metadata": {
        "colab": {
          "base_uri": "https://localhost:8080/"
        },
        "id": "0K6ohGtrgq9r",
        "outputId": "e3920738-d572-408c-a41c-af1017af6805"
      },
      "execution_count": 17,
      "outputs": [
        {
          "output_type": "execute_result",
          "data": {
            "text/plain": [
              "1.52587890625e-05"
            ]
          },
          "metadata": {},
          "execution_count": 17
        }
      ]
    },
    {
      "cell_type": "code",
      "source": [
        "1e11 == (1e11 + np.spacing(1e11)/3)"
      ],
      "metadata": {
        "colab": {
          "base_uri": "https://localhost:8080/"
        },
        "id": "PZhQnZMijnYK",
        "outputId": "8486036f-8acc-497d-951f-1299e0b9e6d0"
      },
      "execution_count": 18,
      "outputs": [
        {
          "output_type": "execute_result",
          "data": {
            "text/plain": [
              "True"
            ]
          },
          "metadata": {},
          "execution_count": 18
        }
      ]
    },
    {
      "cell_type": "markdown",
      "source": [
        "We see that despite the equation being obviously wrong on a conceptual level, the computer still registers it as being correct due to their floating points gap."
      ],
      "metadata": {
        "id": "E_uMG9ddjucx"
      }
    },
    {
      "cell_type": "code",
      "source": [
        "def my_ieee_2_dec(ieee):\n",
        "  sign = int(ieee[0])\n",
        "  ex = int(ieee[1:12], 2)\n",
        "  frac_bits = ieee[12:]\n",
        "\n",
        "  frac = 1\n",
        "  for i in range(52):\n",
        "    frac += int(frac_bits[i]) * (2 ** - (i + 1))\n",
        "\n",
        "  d = (-1) ** sign * frac * (2 ** (ex - 1023))\n",
        "\n",
        "  return d\n",
        "\n",
        "# Test case: -48\n",
        "test_ieee = '1100000001001000000000000000000000000000000000000000000000000000'\n",
        "my_ieee_2_dec(test_ieee)"
      ],
      "metadata": {
        "colab": {
          "base_uri": "https://localhost:8080/"
        },
        "id": "_mwwLn1bknPt",
        "outputId": "d81a7971-6d93-4b50-d3ce-303c6826df2e"
      },
      "execution_count": 20,
      "outputs": [
        {
          "output_type": "execute_result",
          "data": {
            "text/plain": [
              "-48.0"
            ]
          },
          "metadata": {},
          "execution_count": 20
        }
      ]
    },
    {
      "cell_type": "markdown",
      "source": [
        "# Round-off Errors\n",
        "Round-off errors are similar to the errors expressed earlier where the IEEE754 produces an approximation for something rather than being able to properly get the exact answer. This is due to the limited nature of bits for storage. Here we can see an example of this with the equation of $sin(π)$ where it should return 0"
      ],
      "metadata": {
        "id": "PrUihurIlgUe"
      }
    },
    {
      "cell_type": "code",
      "source": [
        "import math\n",
        "\n",
        "pi = math.pi\n",
        "sine_pi = math.sin(pi)\n",
        "print('Sine of Pi:', sine_pi)\n",
        "print('Expected Sine of Pi:', 0)\n",
        "print('Difference:', sine_pi - 0)"
      ],
      "metadata": {
        "colab": {
          "base_uri": "https://localhost:8080/"
        },
        "id": "CPJh-WS9mp5X",
        "outputId": "9bc6b03d-1b17-4885-c672-e9ee18c1d475"
      },
      "execution_count": 22,
      "outputs": [
        {
          "output_type": "stream",
          "name": "stdout",
          "text": [
            "Sine of Pi: 1.2246467991473532e-16\n",
            "Expected Sine of Pi: 0\n",
            "Difference: 1.2246467991473532e-16\n"
          ]
        }
      ]
    }
  ]
}