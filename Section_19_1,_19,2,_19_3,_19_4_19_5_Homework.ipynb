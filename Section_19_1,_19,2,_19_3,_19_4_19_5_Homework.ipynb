{
  "nbformat": 4,
  "nbformat_minor": 0,
  "metadata": {
    "colab": {
      "provenance": [],
      "authorship_tag": "ABX9TyN1rcIKn1+8D2/wUKC2hyWy",
      "include_colab_link": true
    },
    "kernelspec": {
      "name": "python3",
      "display_name": "Python 3"
    },
    "language_info": {
      "name": "python"
    }
  },
  "cells": [
    {
      "cell_type": "markdown",
      "metadata": {
        "id": "view-in-github",
        "colab_type": "text"
      },
      "source": [
        "<a href=\"https://colab.research.google.com/github/BMac23/Mat421/blob/main/Section_19_1%2C_19%2C2%2C_19_3%2C_19_4_19_5_Homework.ipynb\" target=\"_parent\"><img src=\"https://colab.research.google.com/assets/colab-badge.svg\" alt=\"Open In Colab\"/></a>"
      ]
    },
    {
      "cell_type": "markdown",
      "source": [
        "# Root Finding\n",
        "\n",
        "One of the most fundamental aspects of math is being able to find the zeroes or \"roots\" of an equation. It's a skill that's used from when you're first learning algebra all the way to advanced calculus and chaos theory.\n",
        "\n",
        "It all revolves around finding $x$ for a function $f(x)$ such that $f(x_r) = 0$\n",
        "\n",
        "Let's check using some of python's built in functions to solve a simple equation."
      ],
      "metadata": {
        "id": "AH0S_B6UtfO0"
      }
    },
    {
      "cell_type": "code",
      "source": [
        "import numpy as np\n",
        "from scipy import optimize\n",
        "\n",
        "f = lambda x: np.cos(x)-x\n",
        "r = optimize.fsolve(f, -2)\n",
        "\n",
        "print('root =', r)\n",
        "\n",
        "proof = f(r)\n",
        "print('result = ', proof)"
      ],
      "metadata": {
        "colab": {
          "base_uri": "https://localhost:8080/"
        },
        "id": "I9AUpo5L1zE9",
        "outputId": "a9e7ec9e-5496-4524-9759-c1ed62eea273"
      },
      "execution_count": 2,
      "outputs": [
        {
          "output_type": "stream",
          "name": "stdout",
          "text": [
            "root = [0.73908513]\n",
            "result =  [0.]\n"
          ]
        }
      ]
    },
    {
      "cell_type": "markdown",
      "source": [
        "Some functions don't have roots such as $f(x) = \\frac{1}{x}$"
      ],
      "metadata": {
        "id": "Tyt1bbne45AH"
      }
    },
    {
      "cell_type": "code",
      "source": [
        "f = lambda x: 1/x\n",
        "r, infodict, ier, mesg = optimize.fsolve(f, -2, full_output=True)\n",
        "\n",
        "print('root =', r)\n",
        "\n",
        "proof = f(r)\n",
        "print('result = ', proof)"
      ],
      "metadata": {
        "colab": {
          "base_uri": "https://localhost:8080/"
        },
        "id": "t-On6fnB63bD",
        "outputId": "d9ddb7e3-af15-41df-fdb7-a6e5df6d356f"
      },
      "execution_count": 3,
      "outputs": [
        {
          "output_type": "stream",
          "name": "stdout",
          "text": [
            "root = [-3.52047359e+83]\n",
            "result =  [-2.84052692e-84]\n"
          ]
        }
      ]
    },
    {
      "cell_type": "markdown",
      "source": [
        "## Tolerance\n",
        "\n",
        "Tolerance is thought of the level of error that would be \"tolerated\" within some kind of project. With the nature of computer programming as explored earlier when it came to round-off errors, we find solutions when the expected error is smaller than that tolerance."
      ],
      "metadata": {
        "id": "4U8sxJfe7Iwq"
      }
    },
    {
      "cell_type": "markdown",
      "source": [
        "## Bisection Method\n",
        "\n",
        "The Bisection Method is a method of using the Intermediate Value Theorem to determine the roots of a function. The intermediate value theorem states that if a function is continuous between $a$ and $b$ then there must exist a $c$ such that $ a< c < b$. This is used to find roots when a and b are of opposite signs meaning that there must be a case where $f(c) = 0$.\n",
        "\n",
        "It algorithmically goes through the midpoint of each point until it circles around a point where it passes through 0\n",
        "\n",
        "Here's my attempt at creating a function that uses the bisection method to find a root"
      ],
      "metadata": {
        "id": "OZYe1hvB_-43"
      }
    },
    {
      "cell_type": "code",
      "source": [
        "def my_bisection(f, a, b, tol):\n",
        "    if np.sign(f(a)) == np.sign(f(b)):\n",
        "        return None\n",
        "    if f(a) * f(b) >= 0:\n",
        "        print(\"Bisection method fails.\")\n",
        "        return None\n",
        "\n",
        "    m = (a + b) / 2.0\n",
        "\n",
        "    while abs(f(m)) >= tol:\n",
        "        if f(a) * f(m) < 0:\n",
        "            b = m\n",
        "        else:\n",
        "            a = m\n",
        "        m = (a + b) / 2.0\n",
        "    return m\n",
        "\n",
        "f = lambda x: x**2 - 4\n",
        "\n",
        "ans = my_bisection(f, a=1, b=3, tol = 0.001)\n",
        "print('Root = ', ans)\n"
      ],
      "metadata": {
        "colab": {
          "base_uri": "https://localhost:8080/"
        },
        "id": "egYY3R45MWfi",
        "outputId": "162a5fc5-1e4f-4633-d684-d1a2bacab0d9"
      },
      "execution_count": 5,
      "outputs": [
        {
          "output_type": "stream",
          "name": "stdout",
          "text": [
            "Root =  2.0\n"
          ]
        }
      ]
    },
    {
      "cell_type": "markdown",
      "source": [
        "## Newton-Raphson Method\n",
        "\n",
        "The Newton-Raphson method is an alternative method where we take the linear approximation of $f(x)$ around $x_0$ and find where that line intersects with the x-axis and then use that new point to approximate again until eventually we find that $f(x_1) = 0$ as it lies on the x-axis. The basic approximation is found to be:\n",
        "\n",
        "$x_i = x_{i-1} - \\frac{g(x_{i-1})}{g'(x_{i-1})}$\n",
        "\n",
        "My attempt at recreating a function would look like:"
      ],
      "metadata": {
        "id": "qnzZaLXzNQjr"
      }
    },
    {
      "cell_type": "code",
      "source": [
        "def my_newton(f, df, x0, tol):\n",
        "    xn = x0\n",
        "    diff = float('inf')     # initializing a difference variable\n",
        "\n",
        "    while diff > tol:\n",
        "        xn_next = xn - f(xn) / df(xn)\n",
        "\n",
        "        diff = abs(xn_next - xn)\n",
        "\n",
        "        xn = xn_next\n",
        "\n",
        "    return xn"
      ],
      "metadata": {
        "id": "8rva-60zTv_r"
      },
      "execution_count": 6,
      "outputs": []
    },
    {
      "cell_type": "code",
      "source": [
        "f = lambda x: x**2 - 4\n",
        "\n",
        "df = lambda x: 2*x\n",
        "\n",
        "ans = my_newton(f, df, x0 = 1, tol = 0.001)\n",
        "print('Root = ', ans)"
      ],
      "metadata": {
        "colab": {
          "base_uri": "https://localhost:8080/"
        },
        "id": "fvXCJR5_T9NR",
        "outputId": "0a10cec9-d3bf-477a-c082-92a79179ac66"
      },
      "execution_count": 7,
      "outputs": [
        {
          "output_type": "stream",
          "name": "stdout",
          "text": [
            "Root =  2.0000000929222947\n"
          ]
        }
      ]
    },
    {
      "cell_type": "markdown",
      "source": [
        "And while this method isn't at precise as the earlier Bisection method (at least for this example), each one has it's merit. This method is a lot faster than the Bisection one and you can always manually verify to be as precise as you need to."
      ],
      "metadata": {
        "id": "b_m9AL73UPjS"
      }
    }
  ]
}