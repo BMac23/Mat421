{
  "nbformat": 4,
  "nbformat_minor": 0,
  "metadata": {
    "colab": {
      "provenance": [],
      "authorship_tag": "ABX9TyO9mpif9kFlTJ89CWZBR4uI",
      "include_colab_link": true
    },
    "kernelspec": {
      "name": "python3",
      "display_name": "Python 3"
    },
    "language_info": {
      "name": "python"
    }
  },
  "cells": [
    {
      "cell_type": "markdown",
      "metadata": {
        "id": "view-in-github",
        "colab_type": "text"
      },
      "source": [
        "<a href=\"https://colab.research.google.com/github/BMac23/Mat421/blob/main/Section_1_1%2C_1_2%2C_1_3_and_1_4_Homework.ipynb\" target=\"_parent\"><img src=\"https://colab.research.google.com/assets/colab-badge.svg\" alt=\"Open In Colab\"/></a>"
      ]
    },
    {
      "cell_type": "markdown",
      "source": [
        "# Linear Algebra\n",
        "\n",
        "A tremendously important and fundamental concept in mathematics is Linear Algebra. This is a branch of mathematics that deals with arrays or \"vectors\" inside of vector spaces. One important idea is that of linear spaces. A linear space is a collection of vectors that can be added or multiplied by numbers or \"scalars\". The most common one is that of $î$ and $ĵ$ where these are used to make up a 2 dimensional space of unit length of (1,0) and (0,1) respectively.\n",
        "\n",
        "So for example, if you wanted to represent the vector (3,4) using these two vectors, you would simply put it like $3î + 4ĵ = (3,4)$ as that would just be $3 * (1,0) + 4 * (0,1) = (3,4)$"
      ],
      "metadata": {
        "id": "ev5fY2ZXfXop"
      }
    },
    {
      "cell_type": "code",
      "source": [
        "import numpy as np\n",
        "\n",
        "i = np.array([1,0])\n",
        "j = np.array([0,1])\n",
        "\n",
        "print(3*i + 4*j)"
      ],
      "metadata": {
        "colab": {
          "base_uri": "https://localhost:8080/"
        },
        "id": "SFZGdc31jIly",
        "outputId": "2df63c50-40f2-416b-dffc-e18b0babdf94"
      },
      "execution_count": 3,
      "outputs": [
        {
          "output_type": "stream",
          "name": "stdout",
          "text": [
            "[3 4]\n"
          ]
        }
      ]
    },
    {
      "cell_type": "markdown",
      "source": [
        "This allows us to represent any combination of coordinates in a 2 dimensional space.\n",
        "\n",
        "## Orthogonality\n",
        "\n",
        "Another concept is orthogonality. This is the idea that two or more vectors are perpendicular from one another. In basic algebra, this would be something as simple as taking the negative of the reciprocal of slope. For example:"
      ],
      "metadata": {
        "id": "y89xQEBGjd1V"
      }
    },
    {
      "cell_type": "code",
      "source": [
        "import matplotlib.pyplot as plt\n",
        "\n",
        "x = np.linspace(-5,5,100)\n",
        "\n",
        "y1 = 2*x + 1\n",
        "y2 = -x/2 + 1 # With -1/2 being the negative reciprocal of 2\n",
        "\n",
        "plt.plot(x, y1, label='y = 2x + 1', color='blue')\n",
        "plt.plot(x, y2, label='y = -x/2 + 1', color='red', linestyle='--')\n",
        "\n",
        "plt.xlabel('X axis')\n",
        "plt.ylabel('Y axis')\n",
        "plt.xlim(-5,5)\n",
        "plt.ylim(-5,5)\n",
        "\n",
        "plt.show()"
      ],
      "metadata": {
        "colab": {
          "base_uri": "https://localhost:8080/",
          "height": 449
        },
        "id": "OusaiAQLkcWq",
        "outputId": "4b1940cf-fbb0-412b-faa7-c04cc346829d"
      },
      "execution_count": 9,
      "outputs": [
        {
          "output_type": "display_data",
          "data": {
            "text/plain": [
              "<Figure size 640x480 with 1 Axes>"
            ],
            "image/png": "[encoded data removed]"
          },
          "metadata": {}
        }
      ]
    },
    {
      "cell_type": "markdown",
      "source": [
        "However this is a little more complicated in linear algebra with often more dimensions and more vectors. Two vectors are said to be orthogonal if their dot product is equal to zero.\n",
        "\n",
        "A dot product is defined as for vector $a = [a_1, a_2, ... ,a_n]$ and $b = [b_1, b_2, ..., b_n]$ where $a \\cdot b = a_1b_1 + a_2b_2 + ... a_nb_n$. So for example:"
      ],
      "metadata": {
        "id": "Cg_jt1j_l5O0"
      }
    },
    {
      "cell_type": "code",
      "source": [
        "# Here we see that our original i_hat and j_hat vectors are orthogonal\n",
        "print('Dot product of i and j: ' + str(np.dot(i,j)))\n",
        "\n",
        "a = np.array([2,-3])\n",
        "b = np.array([6, 4])\n",
        "\n",
        "print('Dot product of (2,3) and (6,4): ' + str(np.dot(a,b)))"
      ],
      "metadata": {
        "colab": {
          "base_uri": "https://localhost:8080/"
        },
        "id": "0Qgsl-pinjy5",
        "outputId": "e5cdc234-5ee0-47a7-b1dc-07b0be91d4e6"
      },
      "execution_count": 14,
      "outputs": [
        {
          "output_type": "stream",
          "name": "stdout",
          "text": [
            "Dot product of i and j: 0\n",
            "Dot product of (2,3) and (6,4): 0\n"
          ]
        }
      ]
    },
    {
      "cell_type": "markdown",
      "source": [
        "We see that these two vectors are also orthogonal to one another as $(2 * 6) + (-3 * 4) = 12 + (-12) = 0$\n",
        "\n",
        "## Eigenvalues and Eigenvectors\n",
        "\n",
        "An eigenvector is a non-zero vector $v$ such that when multiplied by a vector $A$, the result is a scalar multiple of $v$. That scalar multiple is called the eigenvalue corresponding to $v$."
      ],
      "metadata": {
        "id": "YYU4I3iQoaQV"
      }
    },
    {
      "cell_type": "code",
      "source": [
        "A = np.array([[4, 1], [2, 3]])\n",
        "\n",
        "eigenvalues, eigenvectors = np.linalg.eig(A)\n",
        "\n",
        "print(\"Eigenvalues:\", eigenvalues)\n",
        "print(\"Eigenvectors:\", eigenvectors)"
      ],
      "metadata": {
        "colab": {
          "base_uri": "https://localhost:8080/"
        },
        "id": "-NATA6gHuD2u",
        "outputId": "527c1eac-b718-4d46-bc5c-5931227fe4f4"
      },
      "execution_count": 15,
      "outputs": [
        {
          "output_type": "stream",
          "name": "stdout",
          "text": [
            "Eigenvalues: [5. 2.]\n",
            "Eigenvectors: [[ 0.70710678 -0.4472136 ]\n",
            " [ 0.70710678  0.89442719]]\n"
          ]
        }
      ]
    },
    {
      "cell_type": "markdown",
      "source": [
        "We see that the eigenvector corresponding to the eigenvalue of 5 is (0.70710678, -0.4472136). We can see that the equation relating these terms is $(A-λI)v=0$ (where $I$ is the identity matrix) so let's test that from the above example.\n",
        "\n",
        "The equation can also be written as: $Av = λv$"
      ],
      "metadata": {
        "id": "s-kcIeMjv7vz"
      }
    },
    {
      "cell_type": "code",
      "source": [
        "lambda_i = eigenvalues[0]\n",
        "v_i = eigenvectors[:, 0]\n",
        "\n",
        "Av = A @ v_i\n",
        "lambda_v = lambda_i * v_i\n",
        "\n",
        "print(Av)\n",
        "print(lambda_v)"
      ],
      "metadata": {
        "colab": {
          "base_uri": "https://localhost:8080/"
        },
        "id": "_RRxPwPOwejq",
        "outputId": "51111d53-d1a4-4e85-a18f-ec080a2bb2ac"
      },
      "execution_count": 18,
      "outputs": [
        {
          "output_type": "stream",
          "name": "stdout",
          "text": [
            "[3.53553391 3.53553391]\n",
            "[3.53553391 3.53553391]\n"
          ]
        }
      ]
    },
    {
      "cell_type": "markdown",
      "source": [
        "Here we can see that the two vectors are indeed equivalent satisfying our initial equation."
      ],
      "metadata": {
        "id": "ByRGHkixxrcQ"
      }
    }
  ]
}