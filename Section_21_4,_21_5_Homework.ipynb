{
  "nbformat": 4,
  "nbformat_minor": 0,
  "metadata": {
    "colab": {
      "provenance": [],
      "authorship_tag": "ABX9TyMdh2FkLnt1zKpFscX9ADuN",
      "include_colab_link": true
    },
    "kernelspec": {
      "name": "python3",
      "display_name": "Python 3"
    },
    "language_info": {
      "name": "python"
    }
  },
  "cells": [
    {
      "cell_type": "markdown",
      "metadata": {
        "id": "view-in-github",
        "colab_type": "text"
      },
      "source": [
        "<a href=\"https://colab.research.google.com/github/BMac23/Mat421/blob/main/Section_21_4%2C_21_5_Homework.ipynb\" target=\"_parent\"><img src=\"https://colab.research.google.com/assets/colab-badge.svg\" alt=\"Open In Colab\"/></a>"
      ]
    },
    {
      "cell_type": "markdown",
      "source": [
        "# Numerical Integration\n",
        "\n",
        "Numerical integration is a cornerstone of applied mathematics and computational science. Among its various techniques, Simpson's Rule is a method that is quite often used due to its efficiency. This method provides an approximation of the definite integral of a function, particularly useful when an exact integral is difficult or impossible to obtain analytically.\n",
        "\n",
        "## Simpson's Rule\n",
        "Simpson's Rule is based on the idea of approximating the integrand by a second-degree polynomial, or more intuitively, by the arc of a parabola that passes through three points on the function. This makes it especially effective for smooth functions.\n",
        "\n",
        "Given a function $f(x)$ to be integrated over an interval $[a, b]$, and $n$ (an even number) subintervals, the interval is divided into $2n$ equal parts with a typical partition: $x_0, x_1, ..., x_{2n}$, where $x_0 = a$ and $x_{2n} = b$.\n",
        "\n",
        "The formula for Simpson's Rule is given by:\n",
        "\\begin{equation}\n",
        "    \\int_{a}^{b} f(x)\\,dx \\approx \\frac{h}{3} \\left[f(x_0) + 4 \\sum_{i=1,3,5,\\ldots}^{2n-1} f(x_i) + 2 \\sum_{i=2,4,6,\\ldots}^{2n-2} f(x_i) + f(x_{2n})\\right]\n",
        "\\end{equation}\n",
        "where $h = \\frac{b-a}{2n}$ is the width of each subinterval.\n",
        "\n",
        "My version of a code to create Simpson's Rule would look like:"
      ],
      "metadata": {
        "id": "mAiKt2tCODDd"
      }
    },
    {
      "cell_type": "code",
      "source": [
        "import math"
      ],
      "metadata": {
        "id": "miY74DpDQuL-"
      },
      "execution_count": 6,
      "outputs": []
    },
    {
      "cell_type": "code",
      "source": [
        "def simpsons_rule(f, a, b, n):\n",
        "    if n % 2:\n",
        "        raise ValueError(\"n must be an even number.\")\n",
        "\n",
        "    h = (b - a) / n\n",
        "    x = a\n",
        "    s = f(a) + f(b)\n",
        "\n",
        "    for i in range(1, n, 2):\n",
        "        x = a + i * h\n",
        "        s += 4 * f(x)\n",
        "\n",
        "    for i in range(2, n-1, 2):\n",
        "        x = a + i * h\n",
        "        s += 2 * f(x)\n",
        "\n",
        "    return s * h / 3\n",
        "\n",
        "def f(x):\n",
        "    return 3 * x**2 + 2 * x + 1\n",
        "\n",
        "a = 0\n",
        "b = 2\n",
        "n = 6\n",
        "\n",
        "result = simpsons_rule(f, a, b, n)\n",
        "print(f\"The approximate integral of 3x^2 + 2x + 1 from {a} to {b} using Simpson's Rule is: {result}\")"
      ],
      "metadata": {
        "colab": {
          "base_uri": "https://localhost:8080/"
        },
        "id": "yTrdZ0QOQxm9",
        "outputId": "3af00372-ff97-4087-b84e-192a42284103"
      },
      "execution_count": 3,
      "outputs": [
        {
          "output_type": "stream",
          "name": "stdout",
          "text": [
            "The approximate integral of 3x^2 + 2x + 1 from 0 to 2 using Simpson's Rule is: 13.999999999999998\n"
          ]
        }
      ]
    },
    {
      "cell_type": "markdown",
      "source": [
        "For a more difficult function that might be harder to caluclate by hand:"
      ],
      "metadata": {
        "id": "MJ0BjzpSRVxA"
      }
    },
    {
      "cell_type": "code",
      "source": [
        "a = 0\n",
        "b = math.pi\n",
        "n = 12\n",
        "\n",
        "def f(x):\n",
        "  return math.sin(x)\n",
        "\n",
        "result = simpsons_rule(f, a, b, n)\n",
        "print(f\"The approximate integral of sin(x) from {a} to {b} using Simpson's Rule is: {result}\")\n"
      ],
      "metadata": {
        "colab": {
          "base_uri": "https://localhost:8080/"
        },
        "id": "9S05G90GRaJ0",
        "outputId": "988b9dc1-74ff-49ee-c33a-4740a1301ec7"
      },
      "execution_count": 9,
      "outputs": [
        {
          "output_type": "stream",
          "name": "stdout",
          "text": [
            "The approximate integral of sin(x) from 0 to 3.141592653589793 using Simpson's Rule is: 2.0000526243411856\n"
          ]
        }
      ]
    }
  ]
}